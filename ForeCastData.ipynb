{
 "cells": [
  {
   "cell_type": "code",
   "execution_count": 68,
   "metadata": {},
   "outputs": [],
   "source": [
    "import pandas as pd\n",
    "import csv\n",
    "import json\n",
    "import requests\n",
    "import numpy\n",
    "from pprint import pprint"
   ]
  },
  {
   "cell_type": "code",
   "execution_count": 69,
   "metadata": {},
   "outputs": [],
   "source": [
    "API_KEY = \"E2D50D6C-9124-4349-8C9A-96C411439052\""
   ]
  },
  {
   "cell_type": "code",
   "execution_count": 70,
   "metadata": {},
   "outputs": [],
   "source": [
    "base_url = \"http://www.airnowapi.org/aq/forecast/zipCode/?format=application/json&zipCode=90201&API_KEY=\"+API_KEY"
   ]
  },
  {
   "cell_type": "code",
   "execution_count": 76,
   "metadata": {
    "scrolled": true
   },
   "outputs": [
    {
     "name": "stdout",
     "output_type": "stream",
     "text": [
      "[{'AQI': 37,\n",
      "  'ActionDay': False,\n",
      "  'Category': {'Name': 'Good', 'Number': 1},\n",
      "  'DateForecast': '2018-04-09 ',\n",
      "  'DateIssue': '2018-04-08 ',\n",
      "  'Latitude': 33.9345,\n",
      "  'Longitude': -118.0916,\n",
      "  'ParameterName': 'O3',\n",
      "  'ReportingArea': 'Southeast LA CO',\n",
      "  'StateCode': 'CA'},\n",
      " {'AQI': 66,\n",
      "  'ActionDay': False,\n",
      "  'Category': {'Name': 'Moderate', 'Number': 2},\n",
      "  'DateForecast': '2018-04-09 ',\n",
      "  'DateIssue': '2018-04-08 ',\n",
      "  'Latitude': 33.9345,\n",
      "  'Longitude': -118.0916,\n",
      "  'ParameterName': 'PM2.5',\n",
      "  'ReportingArea': 'Southeast LA CO',\n",
      "  'StateCode': 'CA'},\n",
      " {'AQI': 32,\n",
      "  'ActionDay': False,\n",
      "  'Category': {'Name': 'Good', 'Number': 1},\n",
      "  'DateForecast': '2018-04-09 ',\n",
      "  'DateIssue': '2018-04-08 ',\n",
      "  'Latitude': 33.9345,\n",
      "  'Longitude': -118.0916,\n",
      "  'ParameterName': 'PM10',\n",
      "  'ReportingArea': 'Southeast LA CO',\n",
      "  'StateCode': 'CA'},\n",
      " {'AQI': 20,\n",
      "  'ActionDay': False,\n",
      "  'Category': {'Name': 'Good', 'Number': 1},\n",
      "  'DateForecast': '2018-04-09 ',\n",
      "  'DateIssue': '2018-04-08 ',\n",
      "  'Latitude': 33.9345,\n",
      "  'Longitude': -118.0916,\n",
      "  'ParameterName': 'NO2',\n",
      "  'ReportingArea': 'Southeast LA CO',\n",
      "  'StateCode': 'CA'},\n",
      " {'AQI': 15,\n",
      "  'ActionDay': False,\n",
      "  'Category': {'Name': 'Good', 'Number': 1},\n",
      "  'DateForecast': '2018-04-09 ',\n",
      "  'DateIssue': '2018-04-08 ',\n",
      "  'Latitude': 33.9345,\n",
      "  'Longitude': -118.0916,\n",
      "  'ParameterName': 'CO',\n",
      "  'ReportingArea': 'Southeast LA CO',\n",
      "  'StateCode': 'CA'},\n",
      " {'AQI': 37,\n",
      "  'ActionDay': False,\n",
      "  'Category': {'Name': 'Good', 'Number': 1},\n",
      "  'DateForecast': '2018-04-10 ',\n",
      "  'DateIssue': '2018-04-09 ',\n",
      "  'Latitude': 33.9345,\n",
      "  'Longitude': -118.0916,\n",
      "  'ParameterName': 'O3',\n",
      "  'ReportingArea': 'Southeast LA CO',\n",
      "  'StateCode': 'CA'},\n",
      " {'AQI': 61,\n",
      "  'ActionDay': False,\n",
      "  'Category': {'Name': 'Moderate', 'Number': 2},\n",
      "  'DateForecast': '2018-04-10 ',\n",
      "  'DateIssue': '2018-04-09 ',\n",
      "  'Latitude': 33.9345,\n",
      "  'Longitude': -118.0916,\n",
      "  'ParameterName': 'PM2.5',\n",
      "  'ReportingArea': 'Southeast LA CO',\n",
      "  'StateCode': 'CA'},\n",
      " {'AQI': 30,\n",
      "  'ActionDay': False,\n",
      "  'Category': {'Name': 'Good', 'Number': 1},\n",
      "  'DateForecast': '2018-04-10 ',\n",
      "  'DateIssue': '2018-04-09 ',\n",
      "  'Latitude': 33.9345,\n",
      "  'Longitude': -118.0916,\n",
      "  'ParameterName': 'PM10',\n",
      "  'ReportingArea': 'Southeast LA CO',\n",
      "  'StateCode': 'CA'},\n",
      " {'AQI': 20,\n",
      "  'ActionDay': False,\n",
      "  'Category': {'Name': 'Good', 'Number': 1},\n",
      "  'DateForecast': '2018-04-10 ',\n",
      "  'DateIssue': '2018-04-09 ',\n",
      "  'Latitude': 33.9345,\n",
      "  'Longitude': -118.0916,\n",
      "  'ParameterName': 'NO2',\n",
      "  'ReportingArea': 'Southeast LA CO',\n",
      "  'StateCode': 'CA'},\n",
      " {'AQI': 15,\n",
      "  'ActionDay': False,\n",
      "  'Category': {'Name': 'Good', 'Number': 1},\n",
      "  'DateForecast': '2018-04-10 ',\n",
      "  'DateIssue': '2018-04-09 ',\n",
      "  'Latitude': 33.9345,\n",
      "  'Longitude': -118.0916,\n",
      "  'ParameterName': 'CO',\n",
      "  'ReportingArea': 'Southeast LA CO',\n",
      "  'StateCode': 'CA'}]\n"
     ]
    }
   ],
   "source": [
    "forecast_response = requests.get(base_url).json()\n",
    "pprint(forecast_response)"
   ]
  },
  {
   "cell_type": "code",
   "execution_count": 78,
   "metadata": {},
   "outputs": [],
   "source": [
    "#base_url_history = \"http://www.airnowapi.org/aq/observation/zipCode/historical/?format=application/json&zipCode=94545&date=2012-02-01T00-0000&API_KEY=\" + API_Key\n",
    "\n",
    "# open a file for writing\n",
    "forecast_data = open('forecast.csv', 'w')\n",
    "csvwriter = csv.writer(forecast_data)\n",
    "count = 0\n",
    "for forecast in forecast_response:\n",
    "      if count == 0:\n",
    "             header = forecast.keys()\n",
    "             csvwriter.writerow(header)\n",
    "             count += 1\n",
    "      csvwriter.writerow(forecast.values())\n",
    "forecast_data.close()"
   ]
  },
  {
   "cell_type": "code",
   "execution_count": null,
   "metadata": {},
   "outputs": [],
   "source": []
  },
  {
   "cell_type": "code",
   "execution_count": null,
   "metadata": {},
   "outputs": [],
   "source": []
  }
 ],
 "metadata": {
  "kernelspec": {
   "display_name": "Python [conda env:PythonData]",
   "language": "python",
   "name": "conda-env-PythonData-py"
  },
  "language_info": {
   "codemirror_mode": {
    "name": "ipython",
    "version": 3
   },
   "file_extension": ".py",
   "mimetype": "text/x-python",
   "name": "python",
   "nbconvert_exporter": "python",
   "pygments_lexer": "ipython3",
   "version": "3.6.4"
  }
 },
 "nbformat": 4,
 "nbformat_minor": 2
}
