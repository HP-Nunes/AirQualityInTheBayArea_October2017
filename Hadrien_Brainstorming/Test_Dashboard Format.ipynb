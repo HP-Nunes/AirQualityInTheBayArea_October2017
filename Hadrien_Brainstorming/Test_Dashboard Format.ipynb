{
 "cells": [
  {
   "cell_type": "markdown",
   "metadata": {
    "extensions": {
     "jupyter_dashboards": {
      "version": 1,
      "views": {
       "grid_default": {
        "col": 8,
        "height": 4,
        "hidden": false,
        "row": 74,
        "width": 4
       },
       "report_default": {
        "hidden": false
       }
      }
     }
    }
   },
   "source": [
    "# AQI Dashboard: Descriptive Statistics"
   ]
  },
  {
   "cell_type": "code",
   "execution_count": 6,
   "metadata": {
    "extensions": {
     "jupyter_dashboards": {
      "version": 1,
      "views": {
       "grid_default": {
        "hidden": true
       },
       "report_default": {
        "hidden": true
       }
      }
     }
    }
   },
   "outputs": [],
   "source": [
    "%matplotlib inline # Dashboard"
   ]
  },
  {
   "cell_type": "code",
   "execution_count": 7,
   "metadata": {
    "extensions": {
     "jupyter_dashboards": {
      "version": 1,
      "views": {
       "grid_default": {
        "hidden": true
       },
       "report_default": {
        "hidden": true
       }
      }
     }
    }
   },
   "outputs": [],
   "source": [
    "# Dependencies\n",
    "from ipywidgets import interact\n",
    "import matplotlib.pyplot as plt\n",
    "import requests\n",
    "import json\n",
    "import pandas as pd\n",
    "from pprint import pprint\n",
    "import openweathermapy.core as owm\n",
    "import seaborn as sns\n",
    "import numpy as np\n",
    "from pprint import pprint"
   ]
  },
  {
   "cell_type": "code",
   "execution_count": 15,
   "metadata": {
    "extensions": {
     "jupyter_dashboards": {
      "version": 1,
      "views": {
       "grid_default": {
        "hidden": true
       },
       "report_default": {
        "hidden": true
       }
      }
     }
    }
   },
   "outputs": [],
   "source": [
    "#Load the EPA's Air Quality System data for 2016 and 2017\n",
    "SFB17_csv = \"Raw_Data/EPA_AQI_2017_SFBAY.csv\"\n",
    "SFB17_data = pd.read_csv(SFB17_csv)\n",
    "SFB16_csv = \"Raw_Data/EPA_AQI_2017_SFBAY.csv\"\n",
    "SFB16_data = pd.read_csv(SFB16_csv)\n",
    "# print(SFB16_data.columns)\n",
    "# print(\"------------------------------\")\n",
    "# print(.shape)\n",
    "# print(\"------------------------------\")\n",
    "# print(.dtypes)"
   ]
  },
  {
   "cell_type": "code",
   "execution_count": 20,
   "metadata": {
    "extensions": {
     "jupyter_dashboards": {
      "version": 1,
      "views": {
       "grid_default": {
        "col": 4,
        "height": 4,
        "hidden": false,
        "row": 78,
        "width": 4
       },
       "report_default": {
        "hidden": false
       }
      }
     }
    }
   },
   "outputs": [
    {
     "data": {
      "application/vnd.jupyter.widget-view+json": {
       "model_id": "c64e37f043354e138735d765729efe45",
       "version_major": 2,
       "version_minor": 0
      },
      "text/html": [
       "<p>Failed to display Jupyter Widget of type <code>interactive</code>.</p>\n",
       "<p>\n",
       "  If you're reading this message in the Jupyter Notebook or JupyterLab Notebook, it may mean\n",
       "  that the widgets JavaScript is still loading. If this message persists, it\n",
       "  likely means that the widgets JavaScript library is either not installed or\n",
       "  not enabled. See the <a href=\"https://ipywidgets.readthedocs.io/en/stable/user_install.html\">Jupyter\n",
       "  Widgets Documentation</a> for setup instructions.\n",
       "</p>\n",
       "<p>\n",
       "  If you're reading this message in another frontend (for example, a static\n",
       "  rendering on GitHub or <a href=\"https://nbviewer.jupyter.org/\">NBViewer</a>),\n",
       "  it may mean that your frontend doesn't currently support widgets.\n",
       "</p>\n"
      ],
      "text/plain": [
       "interactive(children=(Dropdown(description='bins', options=('AQI', 'Defining Parameter'), value='AQI'), Output()), _dom_classes=('widget-interact',))"
      ]
     },
     "metadata": {},
     "output_type": "display_data"
    },
    {
     "data": {
      "image/png": "[encoded data removed]",
      "text/plain": [
       "<matplotlib.figure.Figure at 0x21502f97908>"
      ]
     },
     "metadata": {},
     "output_type": "display_data"
    }
   ],
   "source": [
    "#Show the distribution of AQI\n",
    "\n",
    "@interact(bins=[\"AQI\",\"Defining Parameter\"])\n",
    "def plot(bins):\n",
    "   _=sns.distplot(SFB17_data, bins=bins)"
   ]
  },
  {
   "cell_type": "code",
   "execution_count": 3,
   "metadata": {
    "extensions": {
     "jupyter_dashboards": {
      "version": 1,
      "views": {
       "grid_default": {
        "col": 0,
        "height": 18,
        "hidden": false,
        "row": 0,
        "width": 8
       },
       "report_default": {
        "hidden": false
       }
      }
     }
    }
   },
   "outputs": [
    {
     "name": "stdout",
     "output_type": "stream",
     "text": [
      "AxesSubplot(0.125,0.125;0.775x0.755)\n"
     ]
    },
    {
     "data": {
      "text/html": [
       "<div>\n",
       "<style scoped>\n",
       "    .dataframe tbody tr th:only-of-type {\n",
       "        vertical-align: middle;\n",
       "    }\n",
       "\n",
       "    .dataframe tbody tr th {\n",
       "        vertical-align: top;\n",
       "    }\n",
       "\n",
       "    .dataframe thead th {\n",
       "        text-align: right;\n",
       "    }\n",
       "</style>\n",
       "<table border=\"1\" class=\"dataframe\">\n",
       "  <thead>\n",
       "    <tr style=\"text-align: right;\">\n",
       "      <th></th>\n",
       "      <th>State Name</th>\n",
       "      <th>county Name</th>\n",
       "      <th>State Code</th>\n",
       "      <th>County Code</th>\n",
       "      <th>Date</th>\n",
       "      <th>AQI</th>\n",
       "      <th>Category</th>\n",
       "      <th>Defining Parameter</th>\n",
       "      <th>Defining Site</th>\n",
       "      <th>Number of Sites Reporting</th>\n",
       "    </tr>\n",
       "  </thead>\n",
       "  <tbody>\n",
       "    <tr>\n",
       "      <th>0</th>\n",
       "      <td>California</td>\n",
       "      <td>Alameda</td>\n",
       "      <td>6</td>\n",
       "      <td>1</td>\n",
       "      <td>1/1/2017</td>\n",
       "      <td>45</td>\n",
       "      <td>Good</td>\n",
       "      <td>PM2.5</td>\n",
       "      <td>06-001-0011</td>\n",
       "      <td>6</td>\n",
       "    </tr>\n",
       "    <tr>\n",
       "      <th>1</th>\n",
       "      <td>California</td>\n",
       "      <td>Alameda</td>\n",
       "      <td>6</td>\n",
       "      <td>1</td>\n",
       "      <td>1/2/2017</td>\n",
       "      <td>36</td>\n",
       "      <td>Good</td>\n",
       "      <td>Ozone</td>\n",
       "      <td>06-001-2005</td>\n",
       "      <td>6</td>\n",
       "    </tr>\n",
       "    <tr>\n",
       "      <th>2</th>\n",
       "      <td>California</td>\n",
       "      <td>Alameda</td>\n",
       "      <td>6</td>\n",
       "      <td>1</td>\n",
       "      <td>1/3/2017</td>\n",
       "      <td>35</td>\n",
       "      <td>Good</td>\n",
       "      <td>Ozone</td>\n",
       "      <td>06-001-2005</td>\n",
       "      <td>6</td>\n",
       "    </tr>\n",
       "    <tr>\n",
       "      <th>3</th>\n",
       "      <td>California</td>\n",
       "      <td>Alameda</td>\n",
       "      <td>6</td>\n",
       "      <td>1</td>\n",
       "      <td>1/4/2017</td>\n",
       "      <td>40</td>\n",
       "      <td>Good</td>\n",
       "      <td>NO2</td>\n",
       "      <td>06-001-0012</td>\n",
       "      <td>6</td>\n",
       "    </tr>\n",
       "    <tr>\n",
       "      <th>4</th>\n",
       "      <td>California</td>\n",
       "      <td>Alameda</td>\n",
       "      <td>6</td>\n",
       "      <td>1</td>\n",
       "      <td>1/5/2017</td>\n",
       "      <td>36</td>\n",
       "      <td>Good</td>\n",
       "      <td>PM2.5</td>\n",
       "      <td>06-001-0011</td>\n",
       "      <td>6</td>\n",
       "    </tr>\n",
       "  </tbody>\n",
       "</table>\n",
       "</div>"
      ],
      "text/plain": [
       "   State Name county Name  State Code  County Code      Date  AQI Category  \\\n",
       "0  California     Alameda           6            1  1/1/2017   45     Good   \n",
       "1  California     Alameda           6            1  1/2/2017   36     Good   \n",
       "2  California     Alameda           6            1  1/3/2017   35     Good   \n",
       "3  California     Alameda           6            1  1/4/2017   40     Good   \n",
       "4  California     Alameda           6            1  1/5/2017   36     Good   \n",
       "\n",
       "  Defining Parameter Defining Site  Number of Sites Reporting  \n",
       "0              PM2.5   06-001-0011                          6  \n",
       "1              Ozone   06-001-2005                          6  \n",
       "2              Ozone   06-001-2005                          6  \n",
       "3                NO2   06-001-0012                          6  \n",
       "4              PM2.5   06-001-0011                          6  "
      ]
     },
     "execution_count": 3,
     "metadata": {},
     "output_type": "execute_result"
    },
    {
     "data": {
      "image/png": "[encoded data removed]",
      "text/plain": [
       "<matplotlib.figure.Figure at 0x2a1e2252048>"
      ]
     },
     "metadata": {},
     "output_type": "display_data"
    }
   ],
   "source": [
    "time_series_17 = SFB_data.Date\n",
    "AQI = SFB_data.AQI\n",
    "Category = SFB_data.Category\n",
    "Ozone_param = SFB_data[SFB_data[\"Defining Parameter\"] == 'Ozone']\n",
    "Ozone_param_y = Ozone_param.AQI\n",
    "Ozone_param_x = Ozone_param.Date\n",
    "print(sns.distplot(Ozone_param_y))\n",
    "# plt.bar(Ozone_param_x, Ozone_param_y) #AQI for Ozone measurement over 2017; need to bin dates into months\n",
    "                        #and average values where the date is the same for a county's measurement.\n",
    "SFB_data.head()"
   ]
  },
  {
   "cell_type": "code",
   "execution_count": 8,
   "metadata": {
    "extensions": {
     "jupyter_dashboards": {
      "version": 1,
      "views": {
       "grid_default": {
        "col": 8,
        "height": 9,
        "hidden": false,
        "row": 0,
        "width": 4
       },
       "report_default": {
        "hidden": false
       }
      }
     }
    }
   },
   "outputs": [
    {
     "data": {
      "text/plain": [
       "<matplotlib.lines.Line2D at 0x18a398256a0>"
      ]
     },
     "execution_count": 8,
     "metadata": {},
     "output_type": "execute_result"
    },
    {
     "data": {
      "image/png": "[encoded data removed]",
      "text/plain": [
       "<matplotlib.figure.Figure at 0x18a396f9080>"
      ]
     },
     "metadata": {},
     "output_type": "display_data"
    }
   ],
   "source": [
    "#Hist for all AQIs\n",
    "\n",
    "Avg_AQI = SFB_data.AQI.mean()\n",
    "\n",
    "f, (ax_box, ax_hist) = plt.subplots(2, sharex=True, gridspec_kw={\"height_ratios\": (.15, .85)})\n",
    "\n",
    "# Add a graph in each part\n",
    "sns.boxplot(SFB_data.AQI, ax=ax_box)\n",
    "sns.distplot(SFB_data.AQI, ax=ax_hist)\n",
    "plt.axvline(Avg_AQI, linestyle=\"dotted\",color='black')\n",
    "\n",
    "plt.axvline(50, color='g')\n",
    "plt.axvline(100, color='orange')\n",
    "plt.axvline(150, color='r')\n",
    "plt.axvline(200, color='purple')\n",
    "\n",
    "\n",
    "# Remove x axis name for the boxplot\n",
    "ax_box.set(xlabel='Histograms of AQI for All Pollutants, 2017')\n",
    "ax_box.axvline(50, color='g')\n",
    "ax_box.axvline(100, color='orange')\n",
    "ax_box.axvline(150, color='r')\n",
    "ax_box.axvline(200, color='purple')"
   ]
  },
  {
   "cell_type": "code",
   "execution_count": 10,
   "metadata": {
    "extensions": {
     "jupyter_dashboards": {
      "version": 1,
      "views": {
       "grid_default": {
        "col": 8,
        "height": 12,
        "hidden": false,
        "row": 9,
        "width": 4
       },
       "report_default": {
        "hidden": false
       }
      }
     }
    }
   },
   "outputs": [
    {
     "data": {
      "text/plain": [
       "[Text(0.5,0,'Histograms of AQI for Nitrogen Dioxide')]"
      ]
     },
     "execution_count": 10,
     "metadata": {},
     "output_type": "execute_result"
    },
    {
     "data": {
      "image/png": "[encoded data removed]",
      "text/plain": [
       "<matplotlib.figure.Figure at 0x18a39ddcc18>"
      ]
     },
     "metadata": {},
     "output_type": "display_data"
    }
   ],
   "source": [
    "# source : https://python-graph-gallery.com/25-histogram-with-several-variables-seaborn/\n",
    "\n",
    "#Mean AQIs per pollutants\n",
    "\n",
    "m_Oz=SFB_data[SFB_data[\"Defining Parameter\"] == 'Ozone'].AQI.mean()\n",
    "m_Pm25=SFB_data[SFB_data[\"Defining Parameter\"] == 'PM2.5'].AQI.mean()\n",
    "m_NO2=SFB_data[SFB_data[\"Defining Parameter\"] == 'NO2'].AQI.mean()\n",
    "\n",
    "# sns.distplot(SFB_data.AQI) #Hist for all AQIs\n",
    "\n",
    "f, axes = plt.subplots(3, 1, figsize=(10, 10), sharex=True)\n",
    "sns.distplot( SFB_data[SFB_data[\"Defining Parameter\"] == 'Ozone'].AQI , \n",
    "             color=\"skyblue\", ax=axes[0],label = \"Ozone\")\n",
    "axes[0].axvline(m_Oz, linestyle=\"dotted\",color='r')\n",
    "axes[0].set(xlabel='Histograms of AQI for Ozone')\n",
    "\n",
    "sns.distplot( SFB_data[SFB_data[\"Defining Parameter\"] == 'PM2.5'].AQI , \n",
    "             color=\"olive\", ax=axes[1],label = \"PM2.5\")\n",
    "axes[1].axvline(m_Pm25, linestyle=\"dotted\",color='r')\n",
    "axes[1].set(xlabel='Histograms of AQI for particulate matter (PM2.5)')\n",
    "\n",
    "sns.distplot( SFB_data[SFB_data[\"Defining Parameter\"] == 'NO2'].AQI , \n",
    "             color=\"gold\", ax=axes[2],label = \"NO2\")\n",
    "axes[2].axvline(m_NO2, linestyle=\"dotted\",color='r')\n",
    "axes[2].set(xlabel='Histograms of AQI for Nitrogen Dioxide')\n",
    "\n",
    "# sns.distplot( SFB_data.AQI , color=\"coral\", ax=axes[1, 1],label = \"All\")\n",
    "# plt.axvline(Avg_AQI, linestyle=\"dotted\",color='black')\n",
    "\n",
    "# plt.legend(loc='upper left', bbox_to_anchor=(1,1), ncol=1)\n",
    "# sns.plt.legend()\n",
    "\n",
    "# plt.xlabel(\"Histogram of Pollutants' AQI\")"
   ]
  },
  {
   "cell_type": "code",
   "execution_count": 10,
   "metadata": {
    "extensions": {
     "jupyter_dashboards": {
      "version": 1,
      "views": {
       "grid_default": {
        "col": 0,
        "height": 10,
        "hidden": false,
        "row": 21,
        "width": 9
       },
       "report_default": {
        "hidden": false
       }
      }
     }
    }
   },
   "outputs": [
    {
     "data": {
      "text/html": [
       "<div>\n",
       "<style scoped>\n",
       "    .dataframe tbody tr th:only-of-type {\n",
       "        vertical-align: middle;\n",
       "    }\n",
       "\n",
       "    .dataframe tbody tr th {\n",
       "        vertical-align: top;\n",
       "    }\n",
       "\n",
       "    .dataframe thead th {\n",
       "        text-align: right;\n",
       "    }\n",
       "</style>\n",
       "<table border=\"1\" class=\"dataframe\">\n",
       "  <thead>\n",
       "    <tr style=\"text-align: right;\">\n",
       "      <th></th>\n",
       "      <th>State Name</th>\n",
       "      <th>county Name</th>\n",
       "      <th>State Code</th>\n",
       "      <th>County Code</th>\n",
       "      <th>Date</th>\n",
       "      <th>AQI</th>\n",
       "      <th>Category</th>\n",
       "      <th>Defining Parameter</th>\n",
       "      <th>Defining Site</th>\n",
       "      <th>Number of Sites Reporting</th>\n",
       "      <th>Months</th>\n",
       "    </tr>\n",
       "  </thead>\n",
       "  <tbody>\n",
       "    <tr>\n",
       "      <th>0</th>\n",
       "      <td>California</td>\n",
       "      <td>Alameda</td>\n",
       "      <td>6</td>\n",
       "      <td>1</td>\n",
       "      <td>1/1/2017</td>\n",
       "      <td>45</td>\n",
       "      <td>Good</td>\n",
       "      <td>PM2.5</td>\n",
       "      <td>06-001-0011</td>\n",
       "      <td>6</td>\n",
       "      <td>1</td>\n",
       "    </tr>\n",
       "    <tr>\n",
       "      <th>1</th>\n",
       "      <td>California</td>\n",
       "      <td>Alameda</td>\n",
       "      <td>6</td>\n",
       "      <td>1</td>\n",
       "      <td>1/2/2017</td>\n",
       "      <td>36</td>\n",
       "      <td>Good</td>\n",
       "      <td>Ozone</td>\n",
       "      <td>06-001-2005</td>\n",
       "      <td>6</td>\n",
       "      <td>1</td>\n",
       "    </tr>\n",
       "    <tr>\n",
       "      <th>2</th>\n",
       "      <td>California</td>\n",
       "      <td>Alameda</td>\n",
       "      <td>6</td>\n",
       "      <td>1</td>\n",
       "      <td>1/3/2017</td>\n",
       "      <td>35</td>\n",
       "      <td>Good</td>\n",
       "      <td>Ozone</td>\n",
       "      <td>06-001-2005</td>\n",
       "      <td>6</td>\n",
       "      <td>1</td>\n",
       "    </tr>\n",
       "    <tr>\n",
       "      <th>3</th>\n",
       "      <td>California</td>\n",
       "      <td>Alameda</td>\n",
       "      <td>6</td>\n",
       "      <td>1</td>\n",
       "      <td>1/4/2017</td>\n",
       "      <td>40</td>\n",
       "      <td>Good</td>\n",
       "      <td>NO2</td>\n",
       "      <td>06-001-0012</td>\n",
       "      <td>6</td>\n",
       "      <td>1</td>\n",
       "    </tr>\n",
       "    <tr>\n",
       "      <th>4</th>\n",
       "      <td>California</td>\n",
       "      <td>Alameda</td>\n",
       "      <td>6</td>\n",
       "      <td>1</td>\n",
       "      <td>1/5/2017</td>\n",
       "      <td>36</td>\n",
       "      <td>Good</td>\n",
       "      <td>PM2.5</td>\n",
       "      <td>06-001-0011</td>\n",
       "      <td>6</td>\n",
       "      <td>1</td>\n",
       "    </tr>\n",
       "  </tbody>\n",
       "</table>\n",
       "</div>"
      ],
      "text/plain": [
       "   State Name county Name  State Code  County Code      Date  AQI Category  \\\n",
       "0  California     Alameda           6            1  1/1/2017   45     Good   \n",
       "1  California     Alameda           6            1  1/2/2017   36     Good   \n",
       "2  California     Alameda           6            1  1/3/2017   35     Good   \n",
       "3  California     Alameda           6            1  1/4/2017   40     Good   \n",
       "4  California     Alameda           6            1  1/5/2017   36     Good   \n",
       "\n",
       "  Defining Parameter Defining Site  Number of Sites Reporting Months  \n",
       "0              PM2.5   06-001-0011                          6      1  \n",
       "1              Ozone   06-001-2005                          6      1  \n",
       "2              Ozone   06-001-2005                          6      1  \n",
       "3                NO2   06-001-0012                          6      1  \n",
       "4              PM2.5   06-001-0011                          6      1  "
      ]
     },
     "execution_count": 10,
     "metadata": {},
     "output_type": "execute_result"
    }
   ],
   "source": [
    "#Binning dates into months\n",
    "\n",
    "SFB_data['Months']=SFB_data.Date.apply(lambda x: str(x)[:1]) #isolate the month\n",
    "# SFB_data['Months']= SFB_data['Months'].replace({'1': \"January\",'2': \"February\",\n",
    "#                                       '3': \"March\",'4': \"April\",\n",
    "#                                       '5': \"May\",'6': \"June\",\n",
    "#                                       '7': \"July\",'8': \"August\",\n",
    "#                                        '9': \"September\"})\n",
    "SFB_data['Months'].unique()\n",
    "SFB_data['Months'].head\n",
    "SFB_data.head()\n",
    "\n",
    "\n",
    "\n",
    "# SFB_data['Months'].max() #Missing data for Oct-December!!\n",
    "# for index, row in SFB_data.iterrows():\n",
    "#     month, day, year = len(row['Date'].split(\"/\"))\n",
    "#     print(\"Month = %s, Day = %s, Year = %s\") #https://stackoverflow.com/questions/37200142/mm-dd-yyyy-date-to-variable-conversion-m-d-and-y\n",
    "\n",
    "# month, day, year = time_series_17.split('/')\n",
    "# print(\"Month = %s, Day = %s, Year = %s\") #https://stackoverflow.com/questions/36108377/how-to-use-the-split-function-on-every-row-in-a-dataframe-in-python"
   ]
  },
  {
   "cell_type": "code",
   "execution_count": 142,
   "metadata": {
    "extensions": {
     "jupyter_dashboards": {
      "version": 1,
      "views": {
       "grid_default": {
        "col": 0,
        "height": 14,
        "hidden": false,
        "row": 31,
        "width": 4
       },
       "report_default": {
        "hidden": false
       }
      }
     }
    }
   },
   "outputs": [
    {
     "name": "stdout",
     "output_type": "stream",
     "text": [
      "Months\n",
      "1    43.541219\n",
      "2    38.190476\n",
      "3    37.577061\n",
      "4    41.896296\n",
      "5    40.000000\n",
      "6    39.951852\n",
      "7    42.845878\n",
      "8    50.949821\n",
      "9    47.166667\n",
      "Name: AQI, dtype: float64\n"
     ]
    },
    {
     "data": {
      "image/png": "[encoded data removed]",
      "text/plain": [
       "<matplotlib.figure.Figure at 0x2fe3a017828>"
      ]
     },
     "metadata": {},
     "output_type": "display_data"
    }
   ],
   "source": [
    "SFB_data_months_m = SFB_data.groupby(\"Months\").mean() \n",
    "AQI_m_permonths = SFB_data_months_m.AQI\n",
    "AQI_m_permonths #Trendline\n",
    "SFB_data.Category.unique()\n",
    "print(AQI_m_permonths)\n",
    "\n",
    "#Avg. AQI per month during 2017\n",
    "sns.set_style(\"darkgrid\")\n",
    "plt.plot(AQI_m_permonths)\n",
    "plt.axhline(Avg_AQI, linestyle=\"dotted\",color='black')\n",
    "plt.show()"
   ]
  },
  {
   "cell_type": "code",
   "execution_count": 65,
   "metadata": {
    "extensions": {
     "jupyter_dashboards": {
      "version": 1,
      "views": {
       "grid_default": {
        "col": 4,
        "height": 11,
        "hidden": false,
        "row": 31,
        "width": 4
       },
       "report_default": {
        "hidden": false
       }
      }
     }
    }
   },
   "outputs": [
    {
     "name": "stdout",
     "output_type": "stream",
     "text": [
      "Ozone    1157\n",
      "PM2.5    1011\n",
      "NO2        46\n",
      "SO2         2\n",
      "PM10        1\n",
      "Name: Defining Parameter, dtype: int64\n"
     ]
    },
    {
     "data": {
      "image/png": "[encoded data removed]",
      "text/plain": [
       "<matplotlib.figure.Figure at 0x2fe366b60b8>"
      ]
     },
     "metadata": {},
     "output_type": "display_data"
    }
   ],
   "source": [
    "SFB_data_params = SFB_data.groupby('Defining Parameter')\n",
    "\n",
    "print(SFB_data['Defining Parameter'].value_counts())\n",
    "\n",
    "    #Gather the count of the measured parameters per month (for param_count)\n",
    "Jan = SFB_data[SFB_data[\"Months\"] == '1']\n",
    "# print(Jan['Defining Parameter'].value_counts())\n",
    "Feb = SFB_data[SFB_data[\"Months\"] == '2']\n",
    "# print(Feb['Defining Parameter'].value_counts())\n",
    "Mar = SFB_data[SFB_data[\"Months\"] == '3']\n",
    "# print(Mar['Defining Parameter'].value_counts())\n",
    "Apr = SFB_data[SFB_data[\"Months\"] == '4']\n",
    "# print(Apr['Defining Parameter'].value_counts())\n",
    "May = SFB_data[SFB_data[\"Months\"] == '5']\n",
    "# print(May['Defining Parameter'].value_counts())\n",
    "Jun = SFB_data[SFB_data[\"Months\"] == '6']\n",
    "# print(Jun['Defining Parameter'].value_counts())\n",
    "Jul = SFB_data[SFB_data[\"Months\"] == '7']\n",
    "# print(Jul['Defining Parameter'].value_counts())\n",
    "Aug = SFB_data[SFB_data[\"Months\"] == '8']\n",
    "# print(Aug['Defining Parameter'].value_counts())\n",
    "Sep = SFB_data[SFB_data[\"Months\"] == '9']\n",
    "# print(Sep['Defining Parameter'].value_counts())\n",
    "\n",
    "    #Percent Stacked Barplot of Pollutants over the months\n",
    "    # https://python-graph-gallery.com/13-percent-stacked-barplot/\n",
    "r = [0,1,2,3,4,5,6,7,8]\n",
    "param_count = {'PM2.5':[155,73,98,46,106,143,176,214,0],\n",
    "               'Ozone': [101,171,172,221,172,126,102,62,30],\n",
    "               'NO2': [23,8,9,3,1,0,1,1,0],\n",
    "               'SO2': [0,0,0,0,0,0,0,1,0],\n",
    "               'PM10':[0,0,0,0,0,1,0,0,0]\n",
    "              }\n",
    "df_par = pd.DataFrame(param_count)\n",
    "\n",
    "totals = [i+j+k+l+m for i,j,k,l,m in zip(df_par['PM2.5'], df_par['Ozone'], df_par['NO2'], df_par['SO2'], df_par['PM10'])]\n",
    "PM25 = [i / j * 100 for i,j in zip(df_par['PM2.5'], totals)]\n",
    "Ozone = [i / j * 100 for i,j in zip(df_par['Ozone'], totals)]\n",
    "NO2 = [i / j * 100 for i,j in zip(df_par['NO2'], totals)]\n",
    "SO2 = [i / j * 100 for i,j in zip(df_par['SO2'], totals)]\n",
    "PM10 = [i / j * 100 for i,j in zip(df_par['PM10'], totals)]\n",
    "\n",
    "barWidth = 0.85\n",
    "names = ('Jan','Feb','Mar','Apr','May','Jun','Jul','Aug','Sep')\n",
    "plt.bar(r, PM25, color='#b5ffb9', edgecolor='white', width=barWidth,label =\"PM2.5\" ) #green\n",
    "plt.bar(r, Ozone, bottom=PM25, color='#f9bc86', edgecolor='white', width=barWidth,label =\"Ozone\") #orange\n",
    "plt.bar(r, SO2, bottom=Ozone, color='#000000', edgecolor='white', width=barWidth,label =\"SO2\") #black\n",
    "plt.bar(r, PM10, bottom=SO2, color='#FFFF00', edgecolor='white', width=barWidth,label =\"PM10\") #yellow\n",
    "plt.bar(r, NO2, bottom=[i+j+k+l for i,j,k,l in zip(PM25, Ozone,SO2,PM10)], color='#a3acff', edgecolor='white', width=barWidth,label =\"NO2\") # blue\n",
    "\n",
    "plt.xticks(r, names)\n",
    "plt.xlabel(\"Percentage of Main Pollutants Measured per Months\")\n",
    "plt.legend(loc='upper left', bbox_to_anchor=(1,1), ncol=1)\n",
    "\n",
    "plt.show()"
   ]
  },
  {
   "cell_type": "code",
   "execution_count": 48,
   "metadata": {
    "extensions": {
     "jupyter_dashboards": {
      "version": 1,
      "views": {
       "grid_default": {
        "col": 8,
        "height": 9,
        "hidden": false,
        "row": 31,
        "width": 4
       },
       "report_default": {
        "hidden": false
       }
      }
     }
    }
   },
   "outputs": [
    {
     "data": {
      "text/plain": [
       "<seaborn.axisgrid.FacetGrid at 0x2561a46a2b0>"
      ]
     },
     "execution_count": 48,
     "metadata": {},
     "output_type": "execute_result"
    },
    {
     "data": {
      "image/png": "[encoded data removed]",
      "text/plain": [
       "<matplotlib.figure.Figure at 0x2561a65c5c0>"
      ]
     },
     "metadata": {},
     "output_type": "display_data"
    }
   ],
   "source": [
    "#AQI Distribution for each measurement date\n",
    "sns.lmplot( x=\"Date\", y=\"AQI\", data=SFB_data, fit_reg=False, hue='Category', legend=True)"
   ]
  },
  {
   "cell_type": "code",
   "execution_count": 116,
   "metadata": {
    "extensions": {
     "jupyter_dashboards": {
      "version": 1,
      "views": {
       "grid_default": {
        "col": 8,
        "height": 16,
        "hidden": false,
        "row": 40,
        "width": 4
       },
       "report_default": {
        "hidden": false
       }
      }
     }
    }
   },
   "outputs": [
    {
     "name": "stdout",
     "output_type": "stream",
     "text": [
      "State Name                   object\n",
      "county Name                  object\n",
      "State Code                    int64\n",
      "County Code                   int64\n",
      "Date                         object\n",
      "AQI                           int64\n",
      "Category                     object\n",
      "Defining Parameter           object\n",
      "Defining Site                object\n",
      "Number of Sites Reporting     int64\n",
      "Months                        int32\n",
      "dtype: object\n"
     ]
    },
    {
     "data": {
      "text/plain": [
       "<seaborn.axisgrid.FacetGrid at 0x2fe3977d828>"
      ]
     },
     "execution_count": 116,
     "metadata": {},
     "output_type": "execute_result"
    },
    {
     "data": {
      "image/png": "[encoded data removed]",
      "text/plain": [
       "<matplotlib.figure.Figure at 0x2fe393eb710>"
      ]
     },
     "metadata": {},
     "output_type": "display_data"
    }
   ],
   "source": [
    "SFB_data.Months=SFB_data.Months.astype(int)\n",
    "print(SFB_data.dtypes)\n",
    "\n",
    "#AQI Distribution by months\n",
    "# colors = {'Good':'#FFD700', 'Moderate':'#87CEFA', 'Unhealthy':'#F08080','Unhealthy':'#F08080'}\n",
    "sns.lmplot( x=\"Months\", y=\"AQI\", data=SFB_data, fit_reg=False, hue='Category', legend=True)\n",
    "# plt.legend(loc='lower right')\n",
    "\n",
    "# labels = ['Good', 'Moderate', 'Unhealthy', 'Unhealthy for Sensitive Groups']"
   ]
  },
  {
   "cell_type": "code",
   "execution_count": 4,
   "metadata": {
    "extensions": {
     "jupyter_dashboards": {
      "version": 1,
      "views": {
       "grid_default": {
        "col": 4,
        "height": 36,
        "hidden": false,
        "row": 42,
        "width": 4
       },
       "report_default": {
        "hidden": false
       }
      }
     }
    }
   },
   "outputs": [
    {
     "data": {
      "text/plain": [
       "0     94538\n",
       "1     94595\n",
       "2     94539\n",
       "3     94566\n",
       "4     94606\n",
       "5     94535\n",
       "6     94607\n",
       "7     94089\n",
       "8     94549\n",
       "9     94703\n",
       "10    94930\n",
       "11    94618\n",
       "12    94706\n",
       "13    94080\n",
       "14    94025\n",
       "15    94038\n",
       "16    94127\n",
       "17    94102\n",
       "18    94132\n",
       "19    94301\n",
       "20    94933\n",
       "21    95620\n",
       "22    94585\n",
       "23    94022\n",
       "24    94103\n",
       "25    94946\n",
       "26    94520\n",
       "27    94521\n",
       "28    94949\n",
       "29    94514\n",
       "      ...  \n",
       "40    94801\n",
       "41    94571\n",
       "42    94531\n",
       "43    94123\n",
       "44    94128\n",
       "45    94512\n",
       "46    94707\n",
       "47    94107\n",
       "48    94114\n",
       "49    94572\n",
       "50    94028\n",
       "51    94592\n",
       "52    94118\n",
       "53    94965\n",
       "54    94528\n",
       "55    94108\n",
       "56    94558\n",
       "57    94964\n",
       "58    94403\n",
       "59    94590\n",
       "60    94002\n",
       "61    94401\n",
       "62    94598\n",
       "63    94564\n",
       "64    94086\n",
       "65    94117\n",
       "66    94586\n",
       "67    94027\n",
       "68    94710\n",
       "69    94705\n",
       "Name: ZIP, Length: 70, dtype: int64"
      ]
     },
     "execution_count": 4,
     "metadata": {},
     "output_type": "execute_result"
    }
   ],
   "source": [
    "#Limit: 500 requests per hours\n",
    "            #Select randomly up to 50 zip codes from the AirNow API\n",
    "                #Select 7 days (a week) during October 2017 (height of the Sonoma fires)\n",
    "                    #Oct. 9th - Oct. 15th.\n",
    "\n",
    "Zip_csv = \"Raw_Data/bayarea_zipcodes.csv\"\n",
    "Zip_data = pd.read_csv(Zip_csv)\n",
    "Zip_data = Zip_data.ZIP\n",
    "random_zip = []\n",
    "random_zip = Zip_data.sample(50)\n",
    "random_zip=random_zip.reset_index(drop=True)\n",
    "\n",
    "# date_range = []\n",
    "\n",
    "# query_url = \"http://www.airnowapi.org/aq/observation/zipCode/historical/?format=application/json&zipCode={XXX}&date=2017-10-{XXX}T00-0000&distance=25&API_KEY=42C6925A-9E38-4682-8706-77E17F01F983\"\n",
    "\n",
    "# counter = 0\n",
    "# for index, row in weather_df.iterrows():\n",
    "    \n"
   ]
  },
  {
   "cell_type": "code",
   "execution_count": null,
   "metadata": {
    "extensions": {
     "jupyter_dashboards": {
      "version": 1,
      "views": {
       "grid_default": {
        "hidden": true
       },
       "report_default": {
        "hidden": true
       }
      }
     }
    }
   },
   "outputs": [],
   "source": [
    "# Sample 70 zip locations for each day between Oct 9th-15th\n",
    "    #ME: Download 2016 dataset\n",
    "        #Create appropriate viz for EPA dataset\n",
    "            #descriptive dataset\n",
    "            #Time\n",
    "            #Pollutant\n",
    "            #location\n",
    "    #Look at choropleth map library\n",
    "    "
   ]
  },
  {
   "cell_type": "code",
   "execution_count": 12,
   "metadata": {
    "extensions": {
     "jupyter_dashboards": {
      "version": 1,
      "views": {
       "grid_default": {
        "col": 0,
        "height": 39,
        "hidden": false,
        "row": 45,
        "width": 4
       },
       "report_default": {
        "hidden": false
       }
      }
     }
    }
   },
   "outputs": [
    {
     "name": "stdout",
     "output_type": "stream",
     "text": [
      "[{'AQI': 50,\n",
      "  'ActionDay': False,\n",
      "  'Category': {'Name': 'Good', 'Number': 1},\n",
      "  'DateForecast': '2018-04-09 ',\n",
      "  'DateIssue': '2018-04-09 ',\n",
      "  'Latitude': 37.75,\n",
      "  'Longitude': -122.43,\n",
      "  'ParameterName': 'PM2.5',\n",
      "  'ReportingArea': 'San Francisco',\n",
      "  'StateCode': 'CA'},\n",
      " {'AQI': 46,\n",
      "  'ActionDay': False,\n",
      "  'Category': {'Name': 'Good', 'Number': 1},\n",
      "  'DateForecast': '2018-04-10 ',\n",
      "  'DateIssue': '2018-04-09 ',\n",
      "  'Latitude': 37.75,\n",
      "  'Longitude': -122.43,\n",
      "  'ParameterName': 'PM2.5',\n",
      "  'ReportingArea': 'San Francisco',\n",
      "  'StateCode': 'CA'},\n",
      " {'AQI': -1,\n",
      "  'ActionDay': False,\n",
      "  'Category': {'Name': 'Good', 'Number': 1},\n",
      "  'DateForecast': '2018-04-11 ',\n",
      "  'DateIssue': '2018-04-09 ',\n",
      "  'Latitude': 37.75,\n",
      "  'Longitude': -122.43,\n",
      "  'ParameterName': 'PM2.5',\n",
      "  'ReportingArea': 'San Francisco',\n",
      "  'StateCode': 'CA'},\n",
      " {'AQI': -1,\n",
      "  'ActionDay': False,\n",
      "  'Category': {'Name': 'Good', 'Number': 1},\n",
      "  'DateForecast': '2018-04-12 ',\n",
      "  'DateIssue': '2018-04-09 ',\n",
      "  'Latitude': 37.75,\n",
      "  'Longitude': -122.43,\n",
      "  'ParameterName': 'PM2.5',\n",
      "  'ReportingArea': 'San Francisco',\n",
      "  'StateCode': 'CA'},\n",
      " {'AQI': -1,\n",
      "  'ActionDay': False,\n",
      "  'Category': {'Name': 'Good', 'Number': 1},\n",
      "  'DateForecast': '2018-04-13 ',\n",
      "  'DateIssue': '2018-04-09 ',\n",
      "  'Latitude': 37.75,\n",
      "  'Longitude': -122.43,\n",
      "  'ParameterName': 'PM2.5',\n",
      "  'ReportingArea': 'San Francisco',\n",
      "  'StateCode': 'CA'},\n",
      " {'AQI': -1,\n",
      "  'ActionDay': False,\n",
      "  'Category': {'Name': 'Good', 'Number': 1},\n",
      "  'DateForecast': '2018-04-14 ',\n",
      "  'DateIssue': '2018-04-09 ',\n",
      "  'Latitude': 37.75,\n",
      "  'Longitude': -122.43,\n",
      "  'ParameterName': 'PM2.5',\n",
      "  'ReportingArea': 'San Francisco',\n",
      "  'StateCode': 'CA'}]\n"
     ]
    }
   ],
   "source": [
    "# url1 =\"https://aqs.epa.gov/api/rawData?user=hp.nunes@protonmail.com&pw=cobalthawk52&format=AQCSV&pc=AQI_POLLUTANTS&bdate=20170101&edate=20171231&state=06&county=001&county=013&county=041&county=055&county=075&county=081&county=085&county=095&county=097\"\n",
    "# request1 = requests.get(url1).json()\n",
    "# print(request1)\n",
    "# pprint(request_json)\n",
    "\n",
    "#Variables of interest:\n",
    "    #AQI except filter where AQI = -1\n",
    "    #Category\n",
    "    #Lat, Long\n",
    "    #StateCode\n",
    "    #ReportingArea\n",
    "    #DateForecast & DateIssue\n",
    "    #ParameterName\n",
    "        #link to documentation: https://docs.airnowapi.org/forecastsbylatlon/docs"
   ]
  },
  {
   "cell_type": "code",
   "execution_count": 20,
   "metadata": {
    "extensions": {
     "jupyter_dashboards": {
      "version": 1,
      "views": {
       "grid_default": {
        "col": 8,
        "height": 4,
        "hidden": false,
        "row": 56,
        "width": 4
       },
       "report_default": {
        "hidden": false
       }
      }
     }
    }
   },
   "outputs": [
    {
     "name": "stdout",
     "output_type": "stream",
     "text": [
      "<Response [200]>\n"
     ]
    }
   ],
   "source": [
    "#Query by zip code\n",
    "\n",
    "url_z = \"http://www.airnowapi.org/aq/observation/zipCode/current/?format=application/json&zipCode=94133&distance=25&API_KEY=E2D50D6C-9124-4349-8C9A-96C411439052\"\n",
    "print(requests.get(url_z))"
   ]
  },
  {
   "cell_type": "code",
   "execution_count": 19,
   "metadata": {
    "extensions": {
     "jupyter_dashboards": {
      "version": 1,
      "views": {
       "grid_default": {
        "col": 8,
        "height": 14,
        "hidden": false,
        "row": 60,
        "width": 4
       },
       "report_default": {
        "hidden": false
       }
      }
     }
    }
   },
   "outputs": [
    {
     "name": "stdout",
     "output_type": "stream",
     "text": [
      "[{'AQI': 28,\n",
      "  'Category': {'Name': 'Good', 'Number': 1},\n",
      "  'DateObserved': '2018-04-09 ',\n",
      "  'HourObserved': 13,\n",
      "  'Latitude': 37.75,\n",
      "  'LocalTimeZone': 'PST',\n",
      "  'Longitude': -122.43,\n",
      "  'ParameterName': 'O3',\n",
      "  'ReportingArea': 'San Francisco',\n",
      "  'StateCode': 'CA'},\n",
      " {'AQI': 53,\n",
      "  'Category': {'Name': 'Moderate', 'Number': 2},\n",
      "  'DateObserved': '2018-04-09 ',\n",
      "  'HourObserved': 13,\n",
      "  'Latitude': 37.75,\n",
      "  'LocalTimeZone': 'PST',\n",
      "  'Longitude': -122.43,\n",
      "  'ParameterName': 'PM2.5',\n",
      "  'ReportingArea': 'San Francisco',\n",
      "  'StateCode': 'CA'}]\n"
     ]
    }
   ],
   "source": [
    "request_z = requests.get(url_z)\n",
    "request_z_json=request_z.json()\n",
    "pprint(request_z_json)"
   ]
  }
 ],
 "metadata": {
  "extensions": {
   "jupyter_dashboards": {
    "activeView": "grid_default",
    "version": 1,
    "views": {
     "grid_default": {
      "cellMargin": 10,
      "defaultCellHeight": 20,
      "maxColumns": 12,
      "name": "grid",
      "type": "grid"
     },
     "report_default": {
      "name": "report",
      "type": "report"
     }
    }
   }
  },
  "kernelspec": {
   "display_name": "Python [conda env:PythonData]",
   "language": "python",
   "name": "conda-env-PythonData-py"
  },
  "language_info": {
   "codemirror_mode": {
    "name": "ipython",
    "version": 3
   },
   "file_extension": ".py",
   "mimetype": "text/x-python",
   "name": "python",
   "nbconvert_exporter": "python",
   "pygments_lexer": "ipython3",
   "version": "3.6.4"
  }
 },
 "nbformat": 4,
 "nbformat_minor": 2
}
