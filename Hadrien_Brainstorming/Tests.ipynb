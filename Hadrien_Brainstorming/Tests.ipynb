{
 "cells": [
  {
   "cell_type": "code",
   "execution_count": 1,
   "metadata": {},
   "outputs": [],
   "source": [
    "# Dependencies\n",
    "import matplotlib.pyplot as plt\n",
    "import requests\n",
    "import json\n",
    "import pandas as pd\n",
    "from pprint import pprint\n",
    "import openweathermapy.core as owm\n",
    "import seaborn as sns\n",
    "import numpy as np\n",
    "from pprint import pprint"
   ]
  },
  {
   "cell_type": "code",
   "execution_count": 2,
   "metadata": {},
   "outputs": [
    {
     "name": "stdout",
     "output_type": "stream",
     "text": [
      "Index(['State Name', 'county Name', 'State Code', 'County Code', 'Date', 'AQI',\n",
      "       'Category', 'Defining Parameter', 'Defining Site',\n",
      "       'Number of Sites Reporting'],\n",
      "      dtype='object')\n",
      "------------------------------\n",
      "(2217, 10)\n",
      "------------------------------\n",
      "State Name                   object\n",
      "county Name                  object\n",
      "State Code                    int64\n",
      "County Code                   int64\n",
      "Date                         object\n",
      "AQI                           int64\n",
      "Category                     object\n",
      "Defining Parameter           object\n",
      "Defining Site                object\n",
      "Number of Sites Reporting     int64\n",
      "dtype: object\n"
     ]
    }
   ],
   "source": [
    "SFB_csv = \"Raw_Data/EPA_AQI_2017_SFBAY.csv\"\n",
    "SFB_data = pd.read_csv(SFB_csv)\n",
    "print(SFB_data.columns)\n",
    "print(\"------------------------------\")\n",
    "print(SFB_data.shape)\n",
    "print(\"------------------------------\")\n",
    "print(SFB_data.dtypes)"
   ]
  },
  {
   "cell_type": "code",
   "execution_count": 3,
   "metadata": {},
   "outputs": [
    {
     "data": {
      "text/plain": [
       "<matplotlib.axes._subplots.AxesSubplot at 0x25616a58eb8>"
      ]
     },
     "execution_count": 3,
     "metadata": {},
     "output_type": "execute_result"
    },
    {
     "data": {
      "image/png": "[encoded data removed]",
      "text/plain": [
       "<matplotlib.figure.Figure at 0x25604dd9fd0>"
      ]
     },
     "metadata": {},
     "output_type": "display_data"
    }
   ],
   "source": [
    "# plt.hist(SFB_data.AQI)\n",
    "# sns.distplot(SFB_data.AQI, kde=False, rug=True)\n",
    "# sns.kdeplot(SFB_data.AQI, shade=True);\n",
    "\n",
    "sns.distplot(SFB_data.AQI) #Hist for all AQIs"
   ]
  },
  {
   "cell_type": "code",
   "execution_count": 4,
   "metadata": {},
   "outputs": [
    {
     "name": "stdout",
     "output_type": "stream",
     "text": [
      "AxesSubplot(0.125,0.125;0.775x0.755)\n"
     ]
    },
    {
     "data": {
      "text/html": [
       "<div>\n",
       "<style scoped>\n",
       "    .dataframe tbody tr th:only-of-type {\n",
       "        vertical-align: middle;\n",
       "    }\n",
       "\n",
       "    .dataframe tbody tr th {\n",
       "        vertical-align: top;\n",
       "    }\n",
       "\n",
       "    .dataframe thead th {\n",
       "        text-align: right;\n",
       "    }\n",
       "</style>\n",
       "<table border=\"1\" class=\"dataframe\">\n",
       "  <thead>\n",
       "    <tr style=\"text-align: right;\">\n",
       "      <th></th>\n",
       "      <th>State Name</th>\n",
       "      <th>county Name</th>\n",
       "      <th>State Code</th>\n",
       "      <th>County Code</th>\n",
       "      <th>Date</th>\n",
       "      <th>AQI</th>\n",
       "      <th>Category</th>\n",
       "      <th>Defining Parameter</th>\n",
       "      <th>Defining Site</th>\n",
       "      <th>Number of Sites Reporting</th>\n",
       "    </tr>\n",
       "  </thead>\n",
       "  <tbody>\n",
       "    <tr>\n",
       "      <th>0</th>\n",
       "      <td>California</td>\n",
       "      <td>Alameda</td>\n",
       "      <td>6</td>\n",
       "      <td>1</td>\n",
       "      <td>1/1/2017</td>\n",
       "      <td>45</td>\n",
       "      <td>Good</td>\n",
       "      <td>PM2.5</td>\n",
       "      <td>06-001-0011</td>\n",
       "      <td>6</td>\n",
       "    </tr>\n",
       "    <tr>\n",
       "      <th>1</th>\n",
       "      <td>California</td>\n",
       "      <td>Alameda</td>\n",
       "      <td>6</td>\n",
       "      <td>1</td>\n",
       "      <td>1/2/2017</td>\n",
       "      <td>36</td>\n",
       "      <td>Good</td>\n",
       "      <td>Ozone</td>\n",
       "      <td>06-001-2005</td>\n",
       "      <td>6</td>\n",
       "    </tr>\n",
       "    <tr>\n",
       "      <th>2</th>\n",
       "      <td>California</td>\n",
       "      <td>Alameda</td>\n",
       "      <td>6</td>\n",
       "      <td>1</td>\n",
       "      <td>1/3/2017</td>\n",
       "      <td>35</td>\n",
       "      <td>Good</td>\n",
       "      <td>Ozone</td>\n",
       "      <td>06-001-2005</td>\n",
       "      <td>6</td>\n",
       "    </tr>\n",
       "    <tr>\n",
       "      <th>3</th>\n",
       "      <td>California</td>\n",
       "      <td>Alameda</td>\n",
       "      <td>6</td>\n",
       "      <td>1</td>\n",
       "      <td>1/4/2017</td>\n",
       "      <td>40</td>\n",
       "      <td>Good</td>\n",
       "      <td>NO2</td>\n",
       "      <td>06-001-0012</td>\n",
       "      <td>6</td>\n",
       "    </tr>\n",
       "    <tr>\n",
       "      <th>4</th>\n",
       "      <td>California</td>\n",
       "      <td>Alameda</td>\n",
       "      <td>6</td>\n",
       "      <td>1</td>\n",
       "      <td>1/5/2017</td>\n",
       "      <td>36</td>\n",
       "      <td>Good</td>\n",
       "      <td>PM2.5</td>\n",
       "      <td>06-001-0011</td>\n",
       "      <td>6</td>\n",
       "    </tr>\n",
       "  </tbody>\n",
       "</table>\n",
       "</div>"
      ],
      "text/plain": [
       "   State Name county Name  State Code  County Code      Date  AQI Category  \\\n",
       "0  California     Alameda           6            1  1/1/2017   45     Good   \n",
       "1  California     Alameda           6            1  1/2/2017   36     Good   \n",
       "2  California     Alameda           6            1  1/3/2017   35     Good   \n",
       "3  California     Alameda           6            1  1/4/2017   40     Good   \n",
       "4  California     Alameda           6            1  1/5/2017   36     Good   \n",
       "\n",
       "  Defining Parameter Defining Site  Number of Sites Reporting  \n",
       "0              PM2.5   06-001-0011                          6  \n",
       "1              Ozone   06-001-2005                          6  \n",
       "2              Ozone   06-001-2005                          6  \n",
       "3                NO2   06-001-0012                          6  \n",
       "4              PM2.5   06-001-0011                          6  "
      ]
     },
     "execution_count": 4,
     "metadata": {},
     "output_type": "execute_result"
    },
    {
     "data": {
      "image/png": "[encoded data removed]",
      "text/plain": [
       "<matplotlib.figure.Figure at 0x25604df1668>"
      ]
     },
     "metadata": {},
     "output_type": "display_data"
    }
   ],
   "source": [
    "time_series_17 = SFB_data.Date\n",
    "AQI = SFB_data.AQI\n",
    "Category = SFB_data.Category\n",
    "Ozone_param = SFB_data[SFB_data[\"Defining Parameter\"] == 'Ozone']\n",
    "Ozone_param_y = Ozone_param.AQI\n",
    "Ozone_param_x = Ozone_param.Date\n",
    "print(sns.distplot(Ozone_param_y))\n",
    "# plt.bar(Ozone_param_x, Ozone_param_y) #AQI for Ozone measurement over 2017; need to bin dates into months\n",
    "                        #and average values where the date is the same for a county's measurement.\n",
    "SFB_data.head()"
   ]
  },
  {
   "cell_type": "code",
   "execution_count": 26,
   "metadata": {},
   "outputs": [
    {
     "data": {
      "text/html": [
       "<div>\n",
       "<style scoped>\n",
       "    .dataframe tbody tr th:only-of-type {\n",
       "        vertical-align: middle;\n",
       "    }\n",
       "\n",
       "    .dataframe tbody tr th {\n",
       "        vertical-align: top;\n",
       "    }\n",
       "\n",
       "    .dataframe thead th {\n",
       "        text-align: right;\n",
       "    }\n",
       "</style>\n",
       "<table border=\"1\" class=\"dataframe\">\n",
       "  <thead>\n",
       "    <tr style=\"text-align: right;\">\n",
       "      <th></th>\n",
       "      <th>State Name</th>\n",
       "      <th>county Name</th>\n",
       "      <th>State Code</th>\n",
       "      <th>County Code</th>\n",
       "      <th>Date</th>\n",
       "      <th>AQI</th>\n",
       "      <th>Category</th>\n",
       "      <th>Defining Parameter</th>\n",
       "      <th>Defining Site</th>\n",
       "      <th>Number of Sites Reporting</th>\n",
       "      <th>Months</th>\n",
       "    </tr>\n",
       "  </thead>\n",
       "  <tbody>\n",
       "    <tr>\n",
       "      <th>0</th>\n",
       "      <td>California</td>\n",
       "      <td>Alameda</td>\n",
       "      <td>6</td>\n",
       "      <td>1</td>\n",
       "      <td>1/1/2017</td>\n",
       "      <td>45</td>\n",
       "      <td>Good</td>\n",
       "      <td>PM2.5</td>\n",
       "      <td>06-001-0011</td>\n",
       "      <td>6</td>\n",
       "      <td>1</td>\n",
       "    </tr>\n",
       "    <tr>\n",
       "      <th>1</th>\n",
       "      <td>California</td>\n",
       "      <td>Alameda</td>\n",
       "      <td>6</td>\n",
       "      <td>1</td>\n",
       "      <td>1/2/2017</td>\n",
       "      <td>36</td>\n",
       "      <td>Good</td>\n",
       "      <td>Ozone</td>\n",
       "      <td>06-001-2005</td>\n",
       "      <td>6</td>\n",
       "      <td>1</td>\n",
       "    </tr>\n",
       "    <tr>\n",
       "      <th>2</th>\n",
       "      <td>California</td>\n",
       "      <td>Alameda</td>\n",
       "      <td>6</td>\n",
       "      <td>1</td>\n",
       "      <td>1/3/2017</td>\n",
       "      <td>35</td>\n",
       "      <td>Good</td>\n",
       "      <td>Ozone</td>\n",
       "      <td>06-001-2005</td>\n",
       "      <td>6</td>\n",
       "      <td>1</td>\n",
       "    </tr>\n",
       "    <tr>\n",
       "      <th>3</th>\n",
       "      <td>California</td>\n",
       "      <td>Alameda</td>\n",
       "      <td>6</td>\n",
       "      <td>1</td>\n",
       "      <td>1/4/2017</td>\n",
       "      <td>40</td>\n",
       "      <td>Good</td>\n",
       "      <td>NO2</td>\n",
       "      <td>06-001-0012</td>\n",
       "      <td>6</td>\n",
       "      <td>1</td>\n",
       "    </tr>\n",
       "    <tr>\n",
       "      <th>4</th>\n",
       "      <td>California</td>\n",
       "      <td>Alameda</td>\n",
       "      <td>6</td>\n",
       "      <td>1</td>\n",
       "      <td>1/5/2017</td>\n",
       "      <td>36</td>\n",
       "      <td>Good</td>\n",
       "      <td>PM2.5</td>\n",
       "      <td>06-001-0011</td>\n",
       "      <td>6</td>\n",
       "      <td>1</td>\n",
       "    </tr>\n",
       "  </tbody>\n",
       "</table>\n",
       "</div>"
      ],
      "text/plain": [
       "   State Name county Name  State Code  County Code      Date  AQI Category  \\\n",
       "0  California     Alameda           6            1  1/1/2017   45     Good   \n",
       "1  California     Alameda           6            1  1/2/2017   36     Good   \n",
       "2  California     Alameda           6            1  1/3/2017   35     Good   \n",
       "3  California     Alameda           6            1  1/4/2017   40     Good   \n",
       "4  California     Alameda           6            1  1/5/2017   36     Good   \n",
       "\n",
       "  Defining Parameter Defining Site  Number of Sites Reporting Months  \n",
       "0              PM2.5   06-001-0011                          6      1  \n",
       "1              Ozone   06-001-2005                          6      1  \n",
       "2              Ozone   06-001-2005                          6      1  \n",
       "3                NO2   06-001-0012                          6      1  \n",
       "4              PM2.5   06-001-0011                          6      1  "
      ]
     },
     "execution_count": 26,
     "metadata": {},
     "output_type": "execute_result"
    }
   ],
   "source": [
    "#Binning dates into months\n",
    "\n",
    "SFB_data['Months']=SFB_data.Date.apply(lambda x: str(x)[:1]) #isolate the month\n",
    "# SFB_data['Months']= SFB_data['Months'].replace({'1': \"January\",'2': \"February\",\n",
    "#                                       '3': \"March\",'4': \"April\",\n",
    "#                                       '5': \"May\",'6': \"June\",\n",
    "#                                       '7': \"July\",'8': \"August\",\n",
    "#                                        '9': \"September\"})\n",
    "SFB_data['Months'].unique()\n",
    "SFB_data['Months'].head\n",
    "SFB_data.head()\n",
    "\n",
    "\n",
    "\n",
    "# SFB_data['Months'].max() #Missing data for Oct-December!!\n",
    "# for index, row in SFB_data.iterrows():\n",
    "#     month, day, year = len(row['Date'].split(\"/\"))\n",
    "#     print(\"Month = %s, Day = %s, Year = %s\") #https://stackoverflow.com/questions/37200142/mm-dd-yyyy-date-to-variable-conversion-m-d-and-y\n",
    "\n",
    "# month, day, year = time_series_17.split('/')\n",
    "# print(\"Month = %s, Day = %s, Year = %s\") #https://stackoverflow.com/questions/36108377/how-to-use-the-split-function-on-every-row-in-a-dataframe-in-python"
   ]
  },
  {
   "cell_type": "code",
   "execution_count": 50,
   "metadata": {},
   "outputs": [
    {
     "name": "stdout",
     "output_type": "stream",
     "text": [
      "Months\n",
      "1    43.541219\n",
      "2    38.190476\n",
      "3    37.577061\n",
      "4    41.896296\n",
      "5    40.000000\n",
      "6    39.951852\n",
      "7    42.845878\n",
      "8    50.949821\n",
      "9    47.166667\n",
      "Name: AQI, dtype: float64\n"
     ]
    },
    {
     "data": {
      "image/png": "[encoded data removed]",
      "text/plain": [
       "<matplotlib.figure.Figure at 0x2561929c518>"
      ]
     },
     "metadata": {},
     "output_type": "display_data"
    }
   ],
   "source": [
    "SFB_data_months_m = SFB_data.groupby(\"Months\").mean() \n",
    "AQI_m_permonths = SFB_data_months_m.AQI\n",
    "AQI_m_permonths #Trendline\n",
    "SFB_data.Category.unique()\n",
    "print(AQI_m_permonths)\n",
    "\n",
    "#Avg. AQI per month during 2017\n",
    "sns.set_style(\"darkgrid\")\n",
    "plt.plot(AQI_m_permonths)\n",
    "plt.show()"
   ]
  },
  {
   "cell_type": "code",
   "execution_count": 48,
   "metadata": {},
   "outputs": [
    {
     "data": {
      "text/plain": [
       "<seaborn.axisgrid.FacetGrid at 0x2561a46a2b0>"
      ]
     },
     "execution_count": 48,
     "metadata": {},
     "output_type": "execute_result"
    },
    {
     "data": {
      "image/png": "[encoded data removed]",
      "text/plain": [
       "<matplotlib.figure.Figure at 0x2561a65c5c0>"
      ]
     },
     "metadata": {},
     "output_type": "display_data"
    }
   ],
   "source": [
    "#AQI Distribution for each measurement date\n",
    "sns.lmplot( x=\"Date\", y=\"AQI\", data=SFB_data, fit_reg=False, hue='Category', legend=True)"
   ]
  },
  {
   "cell_type": "code",
   "execution_count": 47,
   "metadata": {},
   "outputs": [
    {
     "name": "stdout",
     "output_type": "stream",
     "text": [
      "State Name                   object\n",
      "county Name                  object\n",
      "State Code                    int64\n",
      "County Code                   int64\n",
      "Date                         object\n",
      "AQI                           int64\n",
      "Category                     object\n",
      "Defining Parameter           object\n",
      "Defining Site                object\n",
      "Number of Sites Reporting     int64\n",
      "Months                        int32\n",
      "dtype: object\n"
     ]
    },
    {
     "data": {
      "text/plain": [
       "<seaborn.axisgrid.FacetGrid at 0x2561a622278>"
      ]
     },
     "execution_count": 47,
     "metadata": {},
     "output_type": "execute_result"
    },
    {
     "data": {
      "image/png": "[encoded data removed]",
      "text/plain": [
       "<matplotlib.figure.Figure at 0x2561a6222e8>"
      ]
     },
     "metadata": {},
     "output_type": "display_data"
    }
   ],
   "source": [
    "SFB_data.Months=SFB_data.Months.astype(int)\n",
    "print(SFB_data.dtypes)\n",
    "\n",
    "#AQI Distribution by months\n",
    "sns.lmplot( x=\"Months\", y=\"AQI\", data=SFB_data, fit_reg=False, hue='Category', legend=True)\n",
    "# plt.legend(loc='lower right')\n",
    "\n",
    "# labels = ['Good', 'Moderate', 'Unhealthy', 'Unhealthy for Sensitive Groups']\n",
    "# colors = {'Good':'#FFD700', 'Moderate':'#87CEFA', 'Unhealthy':'#F08080','Unhealthy':'#F08080'}"
   ]
  },
  {
   "cell_type": "code",
   "execution_count": 67,
   "metadata": {},
   "outputs": [
    {
     "data": {
      "text/plain": [
       "0     94111\n",
       "1     94618\n",
       "2     94061\n",
       "3     94702\n",
       "4     94512\n",
       "5     95140\n",
       "6     94903\n",
       "7     94549\n",
       "8     95620\n",
       "9     94609\n",
       "10    94129\n",
       "11    94611\n",
       "12    94528\n",
       "13    94566\n",
       "14    94519\n",
       "15    94577\n",
       "16    94089\n",
       "17    94027\n",
       "18    94124\n",
       "19    94602\n",
       "20    94063\n",
       "21    94555\n",
       "22    94116\n",
       "23    94546\n",
       "24    95035\n",
       "25    94705\n",
       "26    94507\n",
       "27    94019\n",
       "28    94939\n",
       "29    94112\n",
       "      ...  \n",
       "40    94525\n",
       "41    94970\n",
       "42    94506\n",
       "43    95002\n",
       "44    94535\n",
       "45    94304\n",
       "46    94954\n",
       "47    94947\n",
       "48    94127\n",
       "49    94571\n",
       "50    94949\n",
       "51    94965\n",
       "52    94108\n",
       "53    94014\n",
       "54    94596\n",
       "55    94520\n",
       "56    94121\n",
       "57    94114\n",
       "58    94708\n",
       "59    94704\n",
       "60    94946\n",
       "61    94401\n",
       "62    94080\n",
       "63    94043\n",
       "64    94587\n",
       "65    94804\n",
       "66    94403\n",
       "67    94590\n",
       "68    94585\n",
       "69    94920\n",
       "Name: ZIP, Length: 70, dtype: int64"
      ]
     },
     "execution_count": 67,
     "metadata": {},
     "output_type": "execute_result"
    }
   ],
   "source": [
    "#Limit: 500 requests per hours\n",
    "            #Select randomly up to 50 zip codes from the AirNow API\n",
    "                #Select 7 days (a week) during October 2017 (height of the Sonoma fires)\n",
    "                    #Oct. 9th - Oct. 15th.\n",
    "\n",
    "Zip_csv = \"Raw_Data/bayarea_zipcodes.csv\"\n",
    "Zip_data = pd.read_csv(Zip_csv)\n",
    "Zip_data = Zip_data.ZIP\n",
    "random_zip = []\n",
    "random_zip = Zip_data.sample(70)\n",
    "random_zip=random_zip.reset_index(drop=True)\n",
    "\n",
    "date_range = []\n",
    "\n",
    "query_url = \"http://www.airnowapi.org/aq/observation/zipCode/historical/?format=application/json&zipCode={XXX}&date=2017-10-{XXX}T00-0000&distance=25&API_KEY=42C6925A-9E38-4682-8706-77E17F01F983\"\n",
    "\n",
    "counter = 0\n",
    "for index, row in weather_df.iterrows():\n",
    "    \n",
    "\n"
   ]
  },
  {
   "cell_type": "code",
   "execution_count": 12,
   "metadata": {},
   "outputs": [
    {
     "name": "stdout",
     "output_type": "stream",
     "text": [
      "[{'AQI': 50,\n",
      "  'ActionDay': False,\n",
      "  'Category': {'Name': 'Good', 'Number': 1},\n",
      "  'DateForecast': '2018-04-09 ',\n",
      "  'DateIssue': '2018-04-09 ',\n",
      "  'Latitude': 37.75,\n",
      "  'Longitude': -122.43,\n",
      "  'ParameterName': 'PM2.5',\n",
      "  'ReportingArea': 'San Francisco',\n",
      "  'StateCode': 'CA'},\n",
      " {'AQI': 46,\n",
      "  'ActionDay': False,\n",
      "  'Category': {'Name': 'Good', 'Number': 1},\n",
      "  'DateForecast': '2018-04-10 ',\n",
      "  'DateIssue': '2018-04-09 ',\n",
      "  'Latitude': 37.75,\n",
      "  'Longitude': -122.43,\n",
      "  'ParameterName': 'PM2.5',\n",
      "  'ReportingArea': 'San Francisco',\n",
      "  'StateCode': 'CA'},\n",
      " {'AQI': -1,\n",
      "  'ActionDay': False,\n",
      "  'Category': {'Name': 'Good', 'Number': 1},\n",
      "  'DateForecast': '2018-04-11 ',\n",
      "  'DateIssue': '2018-04-09 ',\n",
      "  'Latitude': 37.75,\n",
      "  'Longitude': -122.43,\n",
      "  'ParameterName': 'PM2.5',\n",
      "  'ReportingArea': 'San Francisco',\n",
      "  'StateCode': 'CA'},\n",
      " {'AQI': -1,\n",
      "  'ActionDay': False,\n",
      "  'Category': {'Name': 'Good', 'Number': 1},\n",
      "  'DateForecast': '2018-04-12 ',\n",
      "  'DateIssue': '2018-04-09 ',\n",
      "  'Latitude': 37.75,\n",
      "  'Longitude': -122.43,\n",
      "  'ParameterName': 'PM2.5',\n",
      "  'ReportingArea': 'San Francisco',\n",
      "  'StateCode': 'CA'},\n",
      " {'AQI': -1,\n",
      "  'ActionDay': False,\n",
      "  'Category': {'Name': 'Good', 'Number': 1},\n",
      "  'DateForecast': '2018-04-13 ',\n",
      "  'DateIssue': '2018-04-09 ',\n",
      "  'Latitude': 37.75,\n",
      "  'Longitude': -122.43,\n",
      "  'ParameterName': 'PM2.5',\n",
      "  'ReportingArea': 'San Francisco',\n",
      "  'StateCode': 'CA'},\n",
      " {'AQI': -1,\n",
      "  'ActionDay': False,\n",
      "  'Category': {'Name': 'Good', 'Number': 1},\n",
      "  'DateForecast': '2018-04-14 ',\n",
      "  'DateIssue': '2018-04-09 ',\n",
      "  'Latitude': 37.75,\n",
      "  'Longitude': -122.43,\n",
      "  'ParameterName': 'PM2.5',\n",
      "  'ReportingArea': 'San Francisco',\n",
      "  'StateCode': 'CA'}]\n"
     ]
    }
   ],
   "source": [
    "# url1 =\"https://aqs.epa.gov/api/rawData?user=hp.nunes@protonmail.com&pw=cobalthawk52&format=AQCSV&pc=AQI_POLLUTANTS&bdate=20170101&edate=20171231&state=06&county=001&county=013&county=041&county=055&county=075&county=081&county=085&county=095&county=097\"\n",
    "# request1 = requests.get(url1).json()\n",
    "# print(request1)\n",
    "# pprint(request_json)\n",
    "\n",
    "#Variables of interest:\n",
    "    #AQI except filter where AQI = -1\n",
    "    #Category\n",
    "    #Lat, Long\n",
    "    #StateCode\n",
    "    #ReportingArea\n",
    "    #DateForecast & DateIssue\n",
    "    #ParameterName\n",
    "        #link to documentation: https://docs.airnowapi.org/forecastsbylatlon/docs"
   ]
  },
  {
   "cell_type": "code",
   "execution_count": 20,
   "metadata": {},
   "outputs": [
    {
     "name": "stdout",
     "output_type": "stream",
     "text": [
      "<Response [200]>\n"
     ]
    }
   ],
   "source": [
    "#Query by zip code\n",
    "\n",
    "url_z = \"http://www.airnowapi.org/aq/observation/zipCode/current/?format=application/json&zipCode=94133&distance=25&API_KEY=E2D50D6C-9124-4349-8C9A-96C411439052\"\n",
    "print(requests.get(url_z))"
   ]
  },
  {
   "cell_type": "code",
   "execution_count": 19,
   "metadata": {},
   "outputs": [
    {
     "name": "stdout",
     "output_type": "stream",
     "text": [
      "[{'AQI': 28,\n",
      "  'Category': {'Name': 'Good', 'Number': 1},\n",
      "  'DateObserved': '2018-04-09 ',\n",
      "  'HourObserved': 13,\n",
      "  'Latitude': 37.75,\n",
      "  'LocalTimeZone': 'PST',\n",
      "  'Longitude': -122.43,\n",
      "  'ParameterName': 'O3',\n",
      "  'ReportingArea': 'San Francisco',\n",
      "  'StateCode': 'CA'},\n",
      " {'AQI': 53,\n",
      "  'Category': {'Name': 'Moderate', 'Number': 2},\n",
      "  'DateObserved': '2018-04-09 ',\n",
      "  'HourObserved': 13,\n",
      "  'Latitude': 37.75,\n",
      "  'LocalTimeZone': 'PST',\n",
      "  'Longitude': -122.43,\n",
      "  'ParameterName': 'PM2.5',\n",
      "  'ReportingArea': 'San Francisco',\n",
      "  'StateCode': 'CA'}]\n"
     ]
    }
   ],
   "source": [
    "request_z = requests.get(url_z)\n",
    "request_z_json=request_z.json()\n",
    "pprint(request_z_json)"
   ]
  }
 ],
 "metadata": {
  "kernelspec": {
   "display_name": "Python [conda env:PythonData]",
   "language": "python",
   "name": "conda-env-PythonData-py"
  },
  "language_info": {
   "codemirror_mode": {
    "name": "ipython",
    "version": 3
   },
   "file_extension": ".py",
   "mimetype": "text/x-python",
   "name": "python",
   "nbconvert_exporter": "python",
   "pygments_lexer": "ipython3",
   "version": "3.6.4"
  }
 },
 "nbformat": 4,
 "nbformat_minor": 2
}
